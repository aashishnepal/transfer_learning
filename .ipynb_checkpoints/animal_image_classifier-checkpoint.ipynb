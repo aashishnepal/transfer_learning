{
 "cells": [
  {
   "cell_type": "code",
   "execution_count": 32,
   "metadata": {
    "id": "z2U-m_akHiQ1",
    "tags": []
   },
   "outputs": [],
   "source": [
    "import os\n",
    "from PIL import Image\n",
    "import numpy as np\n",
    "import tensorflow as tf\n",
    "from tensorflow.keras.callbacks import ModelCheckpoint, EarlyStopping\n",
    "\n",
    "def load_data(dataset_dir, img_width, img_height):\n",
    "    data = []\n",
    "    labels = []\n",
    "    classes = sorted([d for d in os.listdir(dataset_dir) if os.path.isdir(os.path.join(dataset_dir, d))])\n",
    "    \n",
    "    for i, class_name in enumerate(classes):\n",
    "        class_dir = os.path.join(dataset_dir, class_name)\n",
    "        for img_name in os.listdir(class_dir):\n",
    "            img_path = os.path.join(class_dir, img_name)\n",
    "            if os.path.isfile(img_path) and not img_name.startswith('.'):  # Skip .DS_Store and any hidden files\n",
    "                img = Image.open(img_path).resize((img_width, img_height))\n",
    "                img = np.array(img)\n",
    "                data.append(img)\n",
    "                labels.append(i)\n",
    "    \n",
    "    data = np.array(data)\n",
    "    labels = np.array(labels)\n",
    "    \n",
    "    return data, labels, classes\n",
    "\n",
    "# Example usage:\n",
    "dataset_dir = 'animal_images/'\n",
    "img_width, img_height = 128, 128\n",
    "\n",
    "# Loading data\n",
    "data, labels, classes = load_data(dataset_dir, img_width, img_height)\n"
   ]
  },
  {
   "cell_type": "code",
   "execution_count": 33,
   "metadata": {
    "id": "AtnSVyjlHkKh"
   },
   "outputs": [],
   "source": [
    "\n",
    "datagen = tf.keras.preprocessing.image.ImageDataGenerator(\n",
    "    rotation_range=20,  # Random rotation in the range [-20, 20] degrees\n",
    "    width_shift_range=0.1,  # Random horizontal shift by up to 10% of the width\n",
    "    height_shift_range=0.1,  # Random vertical shift by up to 10% of the height\n",
    "    zoom_range=0.1,  # Random zoom by up to 10%\n",
    "    horizontal_flip=True,  # Random horizontal flip\n",
    "    vertical_flip=False  # No vertical flip\n",
    ")"
   ]
  },
  {
   "cell_type": "code",
   "execution_count": 34,
   "metadata": {
    "id": "qShEX3LFHkbF"
   },
   "outputs": [
    {
     "name": "stderr",
     "output_type": "stream",
     "text": [
      "/opt/anaconda3/lib/python3.11/site-packages/keras/src/layers/convolutional/base_conv.py:107: UserWarning: Do not pass an `input_shape`/`input_dim` argument to a layer. When using Sequential models, prefer using an `Input(shape)` object as the first layer in the model instead.\n",
      "  super().__init__(activity_regularizer=activity_regularizer, **kwargs)\n"
     ]
    }
   ],
   "source": [
    "\n",
    "model = tf.keras.Sequential([\n",
    "     tf.keras.layers.Conv2D(32, (3, 3), activation='relu', kernel_regularizer=tf.keras.regularizers.l2(0.001), input_shape=(img_width, img_height, 3)),\n",
    "    tf.keras.layers.BatchNormalization(),\n",
    "    tf.keras.layers.MaxPooling2D((2, 2)),\n",
    "    tf.keras.layers.Dropout(0.25),  # Dropout layer\n",
    "    tf.keras.layers.Conv2D(64, (3, 3), activation='relu', kernel_regularizer=tf.keras.regularizers.l2(0.001)),\n",
    "    tf.keras.layers.BatchNormalization(),\n",
    "    tf.keras.layers.MaxPooling2D((2, 2)),\n",
    "    tf.keras.layers.Dropout(0.25),  # Dropout layer\n",
    "    tf.keras.layers.Conv2D(128, (3, 3), activation='relu', kernel_regularizer=tf.keras.regularizers.l2(0.001)),\n",
    "    tf.keras.layers.BatchNormalization(),\n",
    "    tf.keras.layers.MaxPooling2D((2, 2)),\n",
    "    tf.keras.layers.Dropout(0.25),  # Dropout layer\n",
    "    tf.keras.layers.Conv2D(128, (3, 3), activation='relu', kernel_regularizer=tf.keras.regularizers.l2(0.001)),\n",
    "    tf.keras.layers.BatchNormalization(),\n",
    "    tf.keras.layers.MaxPooling2D((2, 2)),\n",
    "    tf.keras.layers.Dropout(0.25),  # Dropout layer\n",
    "    tf.keras.layers.Flatten(),\n",
    "    tf.keras.layers.Dense(512, activation='relu', kernel_regularizer=tf.keras.regularizers.l2(0.001)),\n",
    "    tf.keras.layers.Dropout(0.5),  # Dropout layer\n",
    "    tf.keras.layers.Dense(len(classes), activation='softmax')\n",
    "])\n"
   ]
  },
  {
   "cell_type": "markdown",
   "metadata": {
    "id": "AcCkaa2eQzsF"
   },
   "source": [
    "Model compailation and fitting the trained data is done here."
   ]
  },
  {
   "cell_type": "code",
   "execution_count": 36,
   "metadata": {
    "id": "Zvea_aKaHkrn"
   },
   "outputs": [
    {
     "name": "stdout",
     "output_type": "stream",
     "text": [
      "Epoch 1/50\n",
      "2/2 - 2s - 1000ms/step - accuracy: 0.1667 - loss: 9.6961\n",
      "Epoch 2/50\n",
      "2/2 - 0s - 82ms/step - accuracy: 0.2917 - loss: 6.2713\n",
      "Epoch 3/50\n",
      "2/2 - 0s - 81ms/step - accuracy: 0.3750 - loss: 6.4033\n",
      "Epoch 4/50\n",
      "2/2 - 0s - 83ms/step - accuracy: 0.4583 - loss: 3.9292\n",
      "Epoch 5/50\n",
      "2/2 - 0s - 81ms/step - accuracy: 0.5625 - loss: 4.3890\n",
      "Epoch 6/50\n",
      "2/2 - 0s - 80ms/step - accuracy: 0.5625 - loss: 3.8803\n",
      "Epoch 7/50\n",
      "2/2 - 0s - 83ms/step - accuracy: 0.5208 - loss: 3.8998\n",
      "Epoch 8/50\n",
      "2/2 - 0s - 82ms/step - accuracy: 0.5833 - loss: 3.3348\n",
      "Epoch 9/50\n",
      "2/2 - 0s - 83ms/step - accuracy: 0.5625 - loss: 2.7246\n",
      "Epoch 10/50\n",
      "2/2 - 0s - 85ms/step - accuracy: 0.6250 - loss: 3.0096\n",
      "Epoch 11/50\n",
      "2/2 - 0s - 83ms/step - accuracy: 0.6458 - loss: 2.6214\n",
      "Epoch 12/50\n",
      "2/2 - 0s - 80ms/step - accuracy: 0.7083 - loss: 2.4506\n",
      "Epoch 13/50\n",
      "2/2 - 0s - 80ms/step - accuracy: 0.6458 - loss: 2.6449\n",
      "Epoch 14/50\n",
      "2/2 - 0s - 78ms/step - accuracy: 0.6250 - loss: 2.8231\n",
      "Epoch 15/50\n",
      "2/2 - 0s - 78ms/step - accuracy: 0.6875 - loss: 2.3700\n",
      "Epoch 16/50\n",
      "2/2 - 0s - 79ms/step - accuracy: 0.7917 - loss: 2.2073\n",
      "Epoch 17/50\n",
      "2/2 - 0s - 82ms/step - accuracy: 0.7500 - loss: 2.0441\n",
      "Epoch 18/50\n",
      "2/2 - 0s - 77ms/step - accuracy: 0.7292 - loss: 2.5657\n",
      "Epoch 19/50\n",
      "2/2 - 0s - 84ms/step - accuracy: 0.8333 - loss: 1.7671\n",
      "Epoch 20/50\n",
      "2/2 - 0s - 79ms/step - accuracy: 0.7500 - loss: 2.7374\n",
      "Epoch 21/50\n",
      "2/2 - 0s - 82ms/step - accuracy: 0.8125 - loss: 1.8049\n",
      "Epoch 22/50\n",
      "2/2 - 0s - 77ms/step - accuracy: 0.7917 - loss: 1.8153\n",
      "Epoch 23/50\n",
      "2/2 - 0s - 77ms/step - accuracy: 0.8125 - loss: 1.9636\n",
      "Epoch 24/50\n",
      "2/2 - 0s - 77ms/step - accuracy: 0.7292 - loss: 2.4567\n",
      "Epoch 25/50\n",
      "2/2 - 0s - 77ms/step - accuracy: 0.7500 - loss: 2.0356\n",
      "Epoch 26/50\n",
      "2/2 - 0s - 78ms/step - accuracy: 0.7917 - loss: 2.1591\n",
      "Epoch 27/50\n",
      "2/2 - 0s - 77ms/step - accuracy: 0.8542 - loss: 1.5848\n",
      "Epoch 28/50\n",
      "2/2 - 0s - 79ms/step - accuracy: 0.8125 - loss: 1.9424\n",
      "Epoch 29/50\n",
      "2/2 - 0s - 78ms/step - accuracy: 0.8333 - loss: 1.5308\n",
      "Epoch 30/50\n",
      "2/2 - 0s - 78ms/step - accuracy: 0.8958 - loss: 1.6178\n",
      "Epoch 31/50\n",
      "2/2 - 0s - 81ms/step - accuracy: 0.8125 - loss: 1.7406\n",
      "Epoch 32/50\n",
      "2/2 - 0s - 82ms/step - accuracy: 0.8333 - loss: 1.8280\n",
      "Epoch 33/50\n",
      "2/2 - 0s - 77ms/step - accuracy: 0.8750 - loss: 1.6022\n",
      "Epoch 34/50\n",
      "2/2 - 0s - 79ms/step - accuracy: 0.8125 - loss: 1.7220\n",
      "Epoch 35/50\n",
      "2/2 - 0s - 78ms/step - accuracy: 0.9167 - loss: 1.5449\n",
      "Epoch 36/50\n",
      "2/2 - 0s - 78ms/step - accuracy: 0.8958 - loss: 1.5553\n",
      "Epoch 37/50\n",
      "2/2 - 0s - 78ms/step - accuracy: 0.8542 - loss: 1.4857\n",
      "Epoch 38/50\n",
      "2/2 - 0s - 79ms/step - accuracy: 0.8958 - loss: 1.6133\n",
      "Epoch 39/50\n",
      "2/2 - 0s - 77ms/step - accuracy: 0.8958 - loss: 1.8972\n",
      "Epoch 40/50\n",
      "2/2 - 0s - 77ms/step - accuracy: 0.8125 - loss: 1.8182\n",
      "Epoch 41/50\n",
      "2/2 - 0s - 77ms/step - accuracy: 0.8750 - loss: 1.5501\n",
      "Epoch 42/50\n",
      "2/2 - 0s - 77ms/step - accuracy: 0.8750 - loss: 1.7324\n",
      "Epoch 43/50\n",
      "2/2 - 0s - 77ms/step - accuracy: 0.9167 - loss: 1.4836\n",
      "Epoch 44/50\n",
      "2/2 - 0s - 78ms/step - accuracy: 0.9375 - loss: 1.3581\n",
      "Epoch 45/50\n",
      "2/2 - 0s - 79ms/step - accuracy: 0.9167 - loss: 1.5159\n",
      "Epoch 46/50\n",
      "2/2 - 0s - 78ms/step - accuracy: 0.8958 - loss: 1.5384\n",
      "Epoch 47/50\n",
      "2/2 - 0s - 79ms/step - accuracy: 0.8958 - loss: 1.7016\n",
      "Epoch 48/50\n",
      "2/2 - 0s - 78ms/step - accuracy: 0.8750 - loss: 1.7194\n",
      "Epoch 49/50\n",
      "2/2 - 0s - 87ms/step - accuracy: 0.9583 - loss: 1.4016\n",
      "Epoch 50/50\n",
      "2/2 - 0s - 78ms/step - accuracy: 0.9375 - loss: 1.4986\n"
     ]
    }
   ],
   "source": [
    "\n",
    "model.compile(optimizer='adam',\n",
    "              loss='sparse_categorical_crossentropy',\n",
    "              metrics=['accuracy'])\n",
    "\n",
    "\n",
    "datagen.fit(data)\n",
    "checkpointer = ModelCheckpoint(filepath='saved_models/animal_classification.keras', verbose=1, save_best_only=True)\n",
    "early_stopping = EarlyStopping(monitor='val_loss', patience=10, restore_best_weights=True)\n",
    "\n",
    "history = model.fit(datagen.flow(data, labels, batch_size=32), epochs=50,verbose=2, callbacks=[checkpointer, early_stopping],)\n",
    "model.save('saved_models/animal_classification.keras')\n"
   ]
  },
  {
   "cell_type": "markdown",
   "metadata": {
    "id": "oNc4DQp0a9tH"
   },
   "source": [
    "A funcation is defined and called to check weather the provided image is detected correctly or not.\n"
   ]
  },
  {
   "cell_type": "code",
   "execution_count": 38,
   "metadata": {
    "colab": {
     "base_uri": "https://localhost:8080/"
    },
    "id": "rORbeTUeHk7z",
    "outputId": "e1cdf669-9131-42bc-e89d-88d8c0699fd5",
    "tags": []
   },
   "outputs": [
    {
     "name": "stdout",
     "output_type": "stream",
     "text": [
      "\u001b[1m1/1\u001b[0m \u001b[32m━━━━━━━━━━━━━━━━━━━━\u001b[0m\u001b[37m\u001b[0m \u001b[1m0s\u001b[0m 111ms/step\n",
      "Predicted class: cat\n"
     ]
    }
   ],
   "source": [
    "def classify_image(img_path, model, classes):\n",
    "    img = Image.open(img_path)\n",
    "    img = img.resize((img_width, img_height))\n",
    "    img = np.array(img, dtype=\"float32\") / 255.0\n",
    "    img = np.expand_dims(img, axis=0)\n",
    "    prediction = model.predict(img)\n",
    "    class_idx = np.argmax(prediction)\n",
    "    return classes[class_idx]\n",
    "\n",
    "\n",
    "input_img_path = dataset_dir +\"/cat/19.jpg\"\n",
    "predicted_class = classify_image(input_img_path, model, classes)\n",
    "print(\"Predicted class:\", predicted_class)"
   ]
  },
  {
   "cell_type": "code",
   "execution_count": 39,
   "metadata": {
    "tags": []
   },
   "outputs": [
    {
     "name": "stdout",
     "output_type": "stream",
     "text": [
      "\u001b[1m1/1\u001b[0m \u001b[32m━━━━━━━━━━━━━━━━━━━━\u001b[0m\u001b[37m\u001b[0m \u001b[1m0s\u001b[0m 122ms/step\n",
      "Predicted class: cat\n"
     ]
    }
   ],
   "source": [
    "# define dependency \n",
    "from tensorflow.keras.models import load_model\n",
    "\n",
    "# load model \n",
    "saved_model = load_model('saved_models/animal_classification.keras')\n",
    "\n",
    "input_img_path = dataset_dir +\"/cat/19.jpg\"\n",
    "predicted_class = classify_image(input_img_path, saved_model, classes)\n",
    "print(\"Predicted class:\", predicted_class)"
   ]
  },
  {
   "cell_type": "code",
   "execution_count": null,
   "metadata": {},
   "outputs": [],
   "source": []
  }
 ],
 "metadata": {
  "colab": {
   "provenance": [],
   "toc_visible": true
  },
  "kernelspec": {
   "display_name": "Python 3 (ipykernel)",
   "language": "python",
   "name": "python3"
  },
  "language_info": {
   "codemirror_mode": {
    "name": "ipython",
    "version": 3
   },
   "file_extension": ".py",
   "mimetype": "text/x-python",
   "name": "python",
   "nbconvert_exporter": "python",
   "pygments_lexer": "ipython3",
   "version": "3.11.5"
  }
 },
 "nbformat": 4,
 "nbformat_minor": 4
}
